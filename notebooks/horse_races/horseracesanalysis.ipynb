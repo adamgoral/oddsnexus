{
 "cells": [
  {
   "cell_type": "code",
   "execution_count": null,
   "metadata": {},
   "outputs": [],
   "source": [
    "%matplotlib inline\n",
    "import pandas as pd\n",
    "import hvplot.pandas\n",
    "from os import listdir\n",
    "import os\n",
    "#from tqdm import tqdm\n",
    "from tqdm import tqdm_notebook as tqdm\n",
    "from dask.distributed import Client, LocalCluster"
   ]
  },
  {
   "cell_type": "code",
   "execution_count": null,
   "metadata": {},
   "outputs": [],
   "source": [
    "rootDir = 'C:\\\\Users\\\\adam\\Work\\\\BFTrader\\\\data\\\\historicalhorseprices'\n",
    "import re\n",
    "\n",
    "def loadHorsePricesDataSet(file):\n",
    "    df = pd.read_csv(file)\n",
    "    id = re.search('(.*)\\.csv', os.path.basename(file), re.IGNORECASE).group(1)\n",
    "    df['timestamp'] = df['timestamp'].map(pd.Timestamp)\n",
    "    df = df.set_index(['id','timestamp']).unstack('id')\n",
    "    df.columns.set_names('field',level=0, inplace=True)\n",
    "    if len(df) != 0:\n",
    "        df = df[('traded',)]\n",
    "        df = df.fillna(method='pad')\n",
    "        return (id, df)\n",
    "\n",
    "def loadHorsePricesDataSets(rootDir):\n",
    "    files = listdir(rootDir)\n",
    "    results = dict()\n",
    "    for file in tqdm(files):\n",
    "        ds = loadHorsePricesDataSet(rootDir + '\\\\' + file)\n",
    "        if ds is not None:\n",
    "            id, df = ds\n",
    "            results[id] = df\n",
    "    return results"
   ]
  },
  {
   "cell_type": "code",
   "execution_count": null,
   "metadata": {},
   "outputs": [],
   "source": [
    "cluster = LocalCluster(n_workers=6,threads_per_worker=1)\n",
    "client = Client(cluster)\n",
    "client"
   ]
  },
  {
   "cell_type": "code",
   "execution_count": null,
   "metadata": {},
   "outputs": [],
   "source": [
    "futures = client.map(loadHorsePricesDataSet, [rootDir + '\\\\' + file for file in listdir(rootDir)])\n",
    "horsePrices = client.gather(futures)\n",
    "client.close()\n",
    "cluster.close()"
   ]
  },
  {
   "cell_type": "code",
   "execution_count": null,
   "metadata": {},
   "outputs": [],
   "source": [
    "def getFavourite(df,nthfavourite):\n",
    "    ranked = df.head(1).rank(axis=1).values[0]\n",
    "    for i in range(len(ranked)):\n",
    "        if ranked[i] == nthfavourite * 1.0:\n",
    "            return df.columns[i]\n",
    "        \n",
    "def getFaviouriteReturns(horsePrices,nthfavourites,startMinutes,endMinutes):\n",
    "    files = listdir(rootDir)\n",
    "    results = []\n",
    "    for ds in tqdm(horsePrices):\n",
    "        if ds is not None:\n",
    "            id, df = ds\n",
    "            nrunners = len(df.columns)\n",
    "            lastTimestamp = df.index.values[-1]\n",
    "            startTimestamp = lastTimestamp - pd.Timedelta(minutes=startMinutes)\n",
    "            endTimestamp = lastTimestamp - pd.Timedelta(minutes=endMinutes)\n",
    "            df = df.loc[(df.index >= startTimestamp) & (df.index <= endTimestamp)]\n",
    "            if len(df) != 0:\n",
    "                for nthfavourite in nthfavourites:\n",
    "                    if nthfavourite + 3 < nrunners:\n",
    "                        fav = getFavourite(df, nthfavourite)\n",
    "                        if fav is not None:\n",
    "                            startPrice = df[fav].iloc[0]\n",
    "                            endPrice = df[fav].iloc[-1]\n",
    "                            ret = startPrice/endPrice-1\n",
    "                            results.append({'fav':nthfavourite,'date': df.index[0],'duration':df.index[-1]-df.index[0],'runner': fav, 'nrunners':nrunners, 'return': ret, 'startPrice': startPrice, 'endPrice': endPrice})\n",
    "    return results\n",
    "\n",
    "returns = getFaviouriteReturns(horsePrices,[1,2,3,4],60,5)"
   ]
  },
  {
   "cell_type": "code",
   "execution_count": null,
   "metadata": {},
   "outputs": [],
   "source": [
    "dfreturns = pd.DataFrame(returns).set_index(['fav','date'])\n",
    "dfreturns = dfreturns.loc[(dfreturns['duration'] > pd.Timedelta(minutes=50))]\n",
    "dfreturns['retscaledlay'] = (-dfreturns['return'] * 0.02 + 1)\n",
    "dfreturns['retscaledback'] = (dfreturns['return'] * 0.02 + 1)\n",
    "dfreturns['retscaledlay'] = dfreturns['retscaledlay'].map(lambda x: x if x < 0 else (x-1) * 0.95 +1)\n",
    "dfreturns['retscaledback'] = dfreturns['retscaledback'].map(lambda x: x if x < 0 else (x-1) * 0.95 +1)\n",
    "retmeans = {'fav4':(dfreturns.loc[4]['retscaledback']-1).mean(),'fav3': (dfreturns.loc[3]['retscaledback']-1).mean(), 'fav2': (dfreturns.loc[2]['retscaledback']-1).mean(), 'fav1':(dfreturns.loc[1]['retscaledlay']-1).mean()}\n",
    "print(retmeans)\n",
    "dfreturns.loc[4]['retscaledback'].cumprod().hvplot() * dfreturns.loc[3]['retscaledback'].cumprod().hvplot() *  dfreturns.loc[2]['retscaledback'].cumprod().hvplot() * dfreturns.loc[1]['retscaledlay'].cumprod().hvplot()"
   ]
  },
  {
   "cell_type": "code",
   "execution_count": null,
   "metadata": {},
   "outputs": [],
   "source": [
    "combined = pd.concat([dfreturns.loc[2],dfreturns.loc[3],dfreturns.loc[4]])\n",
    "combined['retscaledback'].sort_index().cumprod().hvplot()"
   ]
  },
  {
   "cell_type": "code",
   "execution_count": null,
   "metadata": {},
   "outputs": [],
   "source": [
    "dfreturns.groupby(by=['fav','nrunners']).mean().loc[1]"
   ]
  },
  {
   "cell_type": "code",
   "execution_count": null,
   "metadata": {},
   "outputs": [],
   "source": [
    "dfreturns.loc[dfreturns['nrunners'] == 5].loc[1].sort_values(by='return')"
   ]
  },
  {
   "cell_type": "code",
   "execution_count": null,
   "metadata": {},
   "outputs": [],
   "source": [
    "horsePrices[3][1].tail()"
   ]
  },
  {
   "cell_type": "code",
   "execution_count": null,
   "metadata": {},
   "outputs": [],
   "source": [
    "horsePrices[3][1].corr()"
   ]
  },
  {
   "cell_type": "code",
   "execution_count": null,
   "metadata": {},
   "outputs": [],
   "source": [
    "horsePrices[3][1].diff().corr()"
   ]
  },
  {
   "cell_type": "code",
   "execution_count": null,
   "metadata": {},
   "outputs": [],
   "source": []
  }
 ],
 "metadata": {
  "kernelspec": {
   "display_name": "Python 3 (ipykernel)",
   "language": "python",
   "name": "python3"
  },
  "language_info": {
   "codemirror_mode": {
    "name": "ipython",
    "version": 3
   },
   "file_extension": ".py",
   "mimetype": "text/x-python",
   "name": "python",
   "nbconvert_exporter": "python",
   "pygments_lexer": "ipython3",
   "version": "3.10.9"
  }
 },
 "nbformat": 4,
 "nbformat_minor": 4
}
