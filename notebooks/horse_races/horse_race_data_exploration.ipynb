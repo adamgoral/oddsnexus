{
 "cells": [
  {
   "cell_type": "code",
   "execution_count": null,
   "metadata": {},
   "outputs": [],
   "source": [
    "import pandas as pd\n",
    "import os\n",
    "import json\n",
    "root_path = r'd:\\Data\\BFTrader\\horseraces'\n",
    "def read_json(file_path):\n",
    "    with open(file_path, 'r', encoding='UTF-8') as f:\n",
    "        return json.load(f)"
   ]
  },
  {
   "cell_type": "code",
   "execution_count": null,
   "metadata": {},
   "outputs": [],
   "source": [
    "meeting_files = [os.path.join(root_path, file_name) for file_name in os.listdir(root_path)\\\n",
    "                if os.path.isfile(os.path.join(root_path, file_name))]"
   ]
  },
  {
   "cell_type": "code",
   "execution_count": null,
   "metadata": {},
   "outputs": [],
   "source": [
    "meetings = []\n",
    "races = []\n",
    "for meeting_file in meeting_files:\n",
    "    for meeting in read_json(meeting_file):\n",
    "        meetings.append(meeting)"
   ]
  },
  {
   "cell_type": "code",
   "execution_count": null,
   "metadata": {},
   "outputs": [],
   "source": [
    "def read_trainer(source):\n",
    "    return {\n",
    "        'id' : source['business_reference']['id'],\n",
    "        'name' : source['name'],\n",
    "    }\n",
    "\n",
    "def read_jockey(source):\n",
    "    return {\n",
    "        'id' : source['person_reference']['id'],\n",
    "        'name' : source['name'],\n",
    "    }\n",
    "\n",
    "def read_horse(source):\n",
    "    return {\n",
    "        'id': source['horse_reference']['id'],\n",
    "        'name': source['name'],\n",
    "        'sex': source['sex']['type'],\n",
    "        'foaled': source['foaled']\n",
    "    }\n",
    "\n",
    "def parse_odds(source):\n",
    "    parts = source.split('/')\n",
    "    return float(parts[0]) / float(parts[1]) + 1\n",
    "\n",
    "def parse_pounds(source):\n",
    "    parts = source.split('-')\n",
    "    result = float(parts[0]) * 14\n",
    "    if len(parts) == 2:\n",
    "        result += float(parts[1])\n",
    "    return result\n",
    "\n",
    "def read_ride(source):\n",
    "    horse = read_horse(source['horse'])\n",
    "    trainer = read_trainer(source['trainer'])\n",
    "    jockey = read_jockey(source['jockey'])\n",
    "    odds = source['betting']['current_odds']\n",
    "    odds_decimal = parse_odds(odds)\n",
    "    return {\n",
    "            'horse': horse,\n",
    "            'trainer': trainer,\n",
    "            'jockey' : jockey,\n",
    "            'official_rating': source['official_rating'],\n",
    "            'owner': source['owner']['name'],\n",
    "            'status': source['ride_status'],\n",
    "            'handicap': source['handicap'],\n",
    "            'handicap_pounds': parse_pounds(source['handicap']),\n",
    "            'odds': odds,\n",
    "            'odds_decimal': odds_decimal\n",
    "           }\n",
    "\n",
    "def read_race(source):\n",
    "    rides = []\n",
    "    for ride in source['rides']:\n",
    "        rides.append(read_ride(ride))\n",
    "    race_summary = source['race_summary']\n",
    "    return {\n",
    "        'id': race_summary['race_summary_reference']['id'],\n",
    "        'name': race_summary['name'],\n",
    "        'course_name': race_summary['course_name'],\n",
    "        'course_surface': race_summary['course_surface']['surface'],\n",
    "        'class': race_summary['race_class'],\n",
    "        'distance': race_summary['distance'],\n",
    "        'date': race_summary['date'],\n",
    "        'time': race_summary['time'],\n",
    "        'going': race_summary['going'],\n",
    "        'rides': rides\n",
    "    }\n",
    "\n",
    "race = read_json('d:/data/bftrader/horseraces/races/545788.json')\n",
    "pd.io.json.json_normalize(read_race(race), meta=['id','name','course_name'], record_path='rides', record_prefix='ride_')"
   ]
  },
  {
   "cell_type": "code",
   "execution_count": null,
   "metadata": {},
   "outputs": [],
   "source": [
    "df = pd.read_csv(r'd:\\Data\\BFTrader\\horseresults.csv', sep='|', dtype={'Jockey': object, 'Trainer': object, 'Sex': 'category', 'status': 'category'} )\n",
    "df = df.set_index(['raceId','runnerId'])\n",
    "df.head(5)"
   ]
  },
  {
   "cell_type": "code",
   "execution_count": null,
   "metadata": {},
   "outputs": [],
   "source": []
  }
 ],
 "metadata": {
  "kernelspec": {
   "display_name": "Python 3 (ipykernel)",
   "language": "python",
   "name": "python3"
  },
  "language_info": {
   "codemirror_mode": {
    "name": "ipython",
    "version": 3
   },
   "file_extension": ".py",
   "mimetype": "text/x-python",
   "name": "python",
   "nbconvert_exporter": "python",
   "pygments_lexer": "ipython3",
   "version": "3.10.9"
  }
 },
 "nbformat": 4,
 "nbformat_minor": 4
}
