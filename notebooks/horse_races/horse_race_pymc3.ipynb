{
 "cells": [
  {
   "cell_type": "code",
   "execution_count": null,
   "metadata": {},
   "outputs": [],
   "source": [
    "import numpy as np\n",
    "import pandas as pd\n",
    "import theano.tensor as tt\n",
    "from tqdm import tqdm\n",
    "import pymc3 as pm"
   ]
  },
  {
   "cell_type": "code",
   "execution_count": null,
   "metadata": {},
   "outputs": [],
   "source": [
    "df = pd.read_csv(r'd:\\Data\\BFTrader\\horseresults.csv', sep='|', dtype={'Jockey': object, 'Trainer': object, 'Sex': 'category', 'status': 'category'} )\n",
    "#df = df.set_index(['raceId'])\n",
    "df = df[df['status']=='RUNNER']\n",
    "df = df[df['finishPosition']!=0]\n",
    "df.head(5)"
   ]
  },
  {
   "cell_type": "code",
   "execution_count": null,
   "metadata": {},
   "outputs": [],
   "source": [
    "df_left = df[['raceId','runnerId']].shift()\n",
    "df_right = df[['raceId','runnerId']]\n",
    "df_idx = df_left.join(df_right, lsuffix='_l', rsuffix='_r').dropna()\n",
    "df_idx['raceId_l'] = df_idx['raceId_l'].map(int)\n",
    "df_idx['runnerId_l'] = df_idx['runnerId_l'].map(int)\n",
    "df_idx = df_idx[df_idx['raceId_l']==df_idx['raceId_r']]\n",
    "display(df_idx.head(15))\n",
    "higher_idx = df_idx['runnerId_l'].values\n",
    "lower_idx = df_idx['runnerId_r'].values\n",
    "observations = [1 for i in higher_idx]\n",
    "runners_count = max([max(higher_idx),max(lower_idx)]) + 1"
   ]
  },
  {
   "cell_type": "code",
   "execution_count": null,
   "metadata": {},
   "outputs": [],
   "source": [
    "horse_ids = ['a','b','c','d']\n",
    "trainer_ids = ['x','y','z']\n",
    "results = [['a','b','c'],['b','d','a','c']]\n",
    "results_idx = [[0,1,2],[1,3,0,2]]"
   ]
  },
  {
   "cell_type": "code",
   "execution_count": null,
   "metadata": {},
   "outputs": [],
   "source": [
    "with pm.Model() as model:\n",
    "    horse_skills = pm.Normal('horse_skills', shape=runners_count)\n",
    "    #trainer_skills = pm.Normal('trainer_skills', shape=len(trainer_ids))\n",
    "    p = pm.math.sigmoid(horse_skills[higher_idx] - horse_skills[lower_idx])\n",
    "    observed = pm.Bernoulli('observed', p = p, observed=observations)\n",
    "model"
   ]
  },
  {
   "cell_type": "code",
   "execution_count": null,
   "metadata": {},
   "outputs": [],
   "source": [
    "with model:\n",
    "    trace = pm.sample(1000, tune=100, cores=1)"
   ]
  },
  {
   "cell_type": "code",
   "execution_count": null,
   "metadata": {},
   "outputs": [],
   "source": [
    "#pm.traceplot(trace)"
   ]
  },
  {
   "cell_type": "code",
   "execution_count": null,
   "metadata": {},
   "outputs": [],
   "source": []
  }
 ],
 "metadata": {
  "kernelspec": {
   "display_name": "Python 3 (ipykernel)",
   "language": "python",
   "name": "python3"
  },
  "language_info": {
   "codemirror_mode": {
    "name": "ipython",
    "version": 3
   },
   "file_extension": ".py",
   "mimetype": "text/x-python",
   "name": "python",
   "nbconvert_exporter": "python",
   "pygments_lexer": "ipython3",
   "version": "3.10.9"
  }
 },
 "nbformat": 4,
 "nbformat_minor": 4
}
