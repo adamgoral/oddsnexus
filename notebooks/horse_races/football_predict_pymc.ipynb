{
 "cells": [
  {
   "cell_type": "code",
   "execution_count": null,
   "metadata": {},
   "outputs": [],
   "source": [
    "import pymc3 as pm\n",
    "import pandas as pd\n",
    "import theano.tensor as tt\n",
    "import numpy as np\n",
    "import matplotlib.pyplot as plt\n",
    "from matplotlib.ticker import StrMethodFormatter\n",
    "import seaborn as sns\n",
    "%matplotlib inline"
   ]
  },
  {
   "cell_type": "code",
   "execution_count": null,
   "metadata": {},
   "outputs": [],
   "source": [
    "with pm.Model():\n",
    "    skill = pm.Gamma('skill', alpha=1, beta=1)\n",
    "    performance = pm.NegativeBinomial('performance', skill, alpha=1)"
   ]
  },
  {
   "cell_type": "code",
   "execution_count": null,
   "metadata": {},
   "outputs": [],
   "source": [
    "df_all = pd.read_csv(r'D:\\Data\\BFTrader\\football_training_set.csv')\n",
    "df_all['home_team'] = df_all['home']\n",
    "df_all['away_team'] = df_all['away']\n",
    "df_all['home_score'] = df_all['homeGoals']\n",
    "df_all['away_score'] = df_all['awayGoals']"
   ]
  },
  {
   "cell_type": "code",
   "execution_count": null,
   "metadata": {},
   "outputs": [],
   "source": [
    "df = df_all[['home_team', 'away_team', 'home_score', 'away_score']]\n",
    "teams = list(set(list(df.home_team) + list(df.away_team.unique())))\n",
    "teams = pd.DataFrame(teams, columns=['team'])\n",
    "teams['i'] = teams.index\n",
    "\n",
    "df = pd.merge(df, teams, left_on='home_team', right_on='team', how='left')\n",
    "df = df.rename(columns = {'i': 'i_home'}).drop('team', 1)\n",
    "df = pd.merge(df, teams, left_on='away_team', right_on='team', how='left')\n",
    "df = df.rename(columns = {'i': 'i_away'}).drop('team', 1)\n",
    "\n",
    "observed_home_goals = df.home_score.values\n",
    "observed_away_goals = df.away_score.values\n",
    "\n",
    "home_team = df.i_home.values\n",
    "away_team = df.i_away.values\n",
    "\n",
    "num_teams = len(teams)\n",
    "num_games = len(home_team)\n",
    "\n",
    "g = df.groupby('i_away')\n",
    "att_starting_points = np.log(g.away_score.mean())\n",
    "g = df.groupby('i_home')\n",
    "def_starting_points = -np.log(g.away_score.mean())"
   ]
  },
  {
   "cell_type": "code",
   "execution_count": null,
   "metadata": {},
   "outputs": [],
   "source": [
    "with pm.Model() as model:\n",
    "    # global model parameters\n",
    "    home = pm.Flat('home')\n",
    "    sd_att = pm.HalfStudentT('sd_att', nu=3, sd=2.5)\n",
    "    sd_def = pm.HalfStudentT('sd_def', nu=3, sd=2.5)\n",
    "    intercept = pm.Flat('intercept')\n",
    "\n",
    "    # team-specific model parameters\n",
    "    atts_star = pm.Normal(\"atts_star\", mu=0, sd=sd_att, shape=num_teams)\n",
    "    defs_star = pm.Normal(\"defs_star\", mu=0, sd=sd_def, shape=num_teams)\n",
    "\n",
    "    atts = pm.Deterministic('atts', atts_star - tt.mean(atts_star))\n",
    "    defs = pm.Deterministic('defs', defs_star - tt.mean(defs_star))\n",
    "    home_theta = tt.exp(intercept + home + atts[home_team] + defs[away_team])\n",
    "    away_theta = tt.exp(intercept + atts[away_team] + defs[home_team])\n",
    "\n",
    "    # likelihood of observed data\n",
    "    home_points = pm.Poisson('home_points', mu=home_theta, observed=observed_home_goals)\n",
    "    away_points = pm.Poisson('away_points', mu=away_theta, observed=observed_away_goals)\n",
    "    "
   ]
  },
  {
   "cell_type": "code",
   "execution_count": null,
   "metadata": {},
   "outputs": [],
   "source": [
    "with model:\n",
    "    trace = pm.sample(1000, tune=1000, cores=3)"
   ]
  },
  {
   "cell_type": "code",
   "execution_count": null,
   "metadata": {},
   "outputs": [],
   "source": [
    "pm.traceplot(trace, varnames=['intercept', 'home', 'sd_att', 'sd_def']);"
   ]
  },
  {
   "cell_type": "code",
   "execution_count": null,
   "metadata": {},
   "outputs": [],
   "source": [
    "bfmi = pm.bfmi(trace)\n",
    "max_gr = max(np.max(gr_stats) for gr_stats in pm.gelman_rubin(trace).values())\n",
    "(pm.energyplot(trace, legend=False, figsize=(6, 4))\n",
    "   .set_title(\"BFMI = {}\\nGelman-Rubin = {}\".format(bfmi, max_gr)));"
   ]
  },
  {
   "cell_type": "code",
   "execution_count": null,
   "metadata": {},
   "outputs": [],
   "source": [
    "df_hpd = pd.DataFrame(pm.stats.hpd(trace['atts']),\n",
    "                      columns=['hpd_low', 'hpd_high'],\n",
    "                      index=teams.team.values)\n",
    "df_median = pd.DataFrame(pm.stats.quantiles(trace['atts'])[50],\n",
    "                         columns=['hpd_median'],\n",
    "                         index=teams.team.values)\n",
    "df_hpd = df_hpd.join(df_median)\n",
    "df_hpd['relative_lower'] = df_hpd.hpd_median - df_hpd.hpd_low\n",
    "df_hpd['relative_upper'] = df_hpd.hpd_high - df_hpd.hpd_median\n",
    "df_hpd = df_hpd.sort_values(by='hpd_median')\n",
    "df_hpd = df_hpd.reset_index()\n",
    "df_hpd['x'] = df_hpd.index + .5\n",
    "\n",
    "fig, axs = plt.subplots(figsize=(10,4))\n",
    "axs.errorbar(df_hpd.x, df_hpd.hpd_median,\n",
    "             yerr=(df_hpd[['relative_lower', 'relative_upper']].values).T,\n",
    "             fmt='o')\n",
    "axs.set_title('HPD of Attack Strength, by Team')\n",
    "axs.set_xlabel('Team')\n",
    "axs.set_ylabel('Posterior Attack Strength')\n",
    "_= axs.set_xticks(df_hpd.index + .5)\n",
    "_= axs.set_xticklabels(df_hpd['index'].values, rotation=45)"
   ]
  },
  {
   "cell_type": "code",
   "execution_count": null,
   "metadata": {},
   "outputs": [],
   "source": [
    "with model:\n",
    "    pp_trace = pm.sample_posterior_predictive(trace, samples=10000)"
   ]
  },
  {
   "cell_type": "code",
   "execution_count": null,
   "metadata": {},
   "outputs": [],
   "source": [
    "pp_trace.keys()"
   ]
  },
  {
   "cell_type": "code",
   "execution_count": null,
   "metadata": {},
   "outputs": [],
   "source": [
    "home_win = (pp_trace['home_points'] > pp_trace['away_points']) * 1\n",
    "draw = (pp_trace['home_points'] == pp_trace['away_points']) * 1\n",
    "away_win = (pp_trace['home_points'] < pp_trace['away_points']) * 1\n",
    "df['home_win_pred'] = home_win.mean(axis=0)\n",
    "df['draw_pred'] = draw.mean(axis=0)\n",
    "df['away_win_pred'] = away_win.mean(axis=0)"
   ]
  },
  {
   "cell_type": "code",
   "execution_count": null,
   "metadata": {},
   "outputs": [],
   "source": [
    "df[(df['home_team'] == 'Southampton') & (df['away_team'] == 'Crystal Palace')]"
   ]
  },
  {
   "cell_type": "code",
   "execution_count": null,
   "metadata": {},
   "outputs": [],
   "source": [
    "trace['atts'].shape"
   ]
  },
  {
   "cell_type": "code",
   "execution_count": null,
   "metadata": {},
   "outputs": [],
   "source": []
  }
 ],
 "metadata": {
  "kernelspec": {
   "display_name": "Python 3 (ipykernel)",
   "language": "python",
   "name": "python3"
  },
  "language_info": {
   "codemirror_mode": {
    "name": "ipython",
    "version": 3
   },
   "file_extension": ".py",
   "mimetype": "text/x-python",
   "name": "python",
   "nbconvert_exporter": "python",
   "pygments_lexer": "ipython3",
   "version": "3.10.9"
  }
 },
 "nbformat": 4,
 "nbformat_minor": 4
}
