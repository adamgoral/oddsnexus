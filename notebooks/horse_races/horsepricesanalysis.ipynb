{
 "cells": [
  {
   "cell_type": "code",
   "execution_count": null,
   "metadata": {},
   "outputs": [],
   "source": [
    "%matplotlib inline\n",
    "import pandas as pd\n",
    "import numpy as np\n",
    "from dateutil.parser import parse\n",
    "import os\n",
    "from tqdm import tqdm\n",
    "import traceback"
   ]
  },
  {
   "cell_type": "code",
   "execution_count": null,
   "metadata": {},
   "outputs": [],
   "source": [
    "def loadMids(filePath):\n",
    "    dfQuotes = pd.read_csv(filePath)#.unstack('id')\n",
    "    dfQuotes['timestamp'] = dfQuotes['timestamp'].map(parse)\n",
    "    dfQuotes = dfQuotes.set_index(['id','timestamp'])\n",
    "    dfQuotes['mid'] = (dfQuotes['bid'] + dfQuotes['ask']) / 2\n",
    "    dfQuotes['spread'] = dfQuotes['ask'] - dfQuotes['bid']\n",
    "    mids = dfQuotes['mid'].unstack('id').sort_index()\n",
    "    return mids\n",
    "\n",
    "def loadMidsFromHistoricalPrices(filePath):\n",
    "    dfQuotes = pd.read_csv(filePath)#.unstack('id')\n",
    "    dfQuotes['timestamp'] = dfQuotes['timestamp'].map(parse)\n",
    "    dfQuotes = dfQuotes.set_index(['id','timestamp'])\n",
    "    dfQuotes['mid'] = dfQuotes['traded']\n",
    "    mids = dfQuotes['mid'].unstack('id').sort_index()\n",
    "    mids = mids.fillna(method='ffill')\n",
    "    return mids\n",
    "\n",
    "def convertToPickle(loadFunc, baseDir, outputDir):\n",
    "    pbar = tqdm(os.listdir(baseDir))\n",
    "    for file in pbar:\n",
    "        try:\n",
    "            filePath = baseDir + '\\\\' + file\n",
    "            mids = loadFunc(filePath)\n",
    "            outputFile = outputDir + '\\\\' + file[:-4] + '.pickle'\n",
    "            mids.to_pickle(outputFile)\n",
    "        except:\n",
    "            pass\n",
    "        "
   ]
  },
  {
   "cell_type": "code",
   "execution_count": null,
   "metadata": {},
   "outputs": [],
   "source": [
    "outputDir=r'D:\\data\\BFTrader\\historicalhorsepricespickle'\n",
    "baseDir = r'D:\\Data\\BFTrader\\historicalhorseprices'\n",
    "convertToPickle(loadMidsFromHistoricalPrices, baseDir, outputDir)"
   ]
  },
  {
   "cell_type": "code",
   "execution_count": null,
   "metadata": {},
   "outputs": [],
   "source": [
    "outputDir=r'D:\\Data\\BFTrader\\horsepricemidspickle'\n",
    "baseDir = r'D:\\Data\\BFTrader\\horsepricesCsv'\n",
    "convertToPickle(loadMids, baseDir, outputDir)"
   ]
  },
  {
   "cell_type": "code",
   "execution_count": null,
   "metadata": {},
   "outputs": [],
   "source": [
    "startTimeDelta = '60m'\n",
    "endTimeDelta = '5m'\n",
    "sourceDir=r'D:\\Data\\BFTrader\\historicalhorsepricespickle'\n",
    "pnls = []\n",
    "pbar = tqdm(os.listdir(sourceDir))\n",
    "count = 0\n",
    "total_pnl = 0\n",
    "errors = []\n",
    "for file in pbar:\n",
    "    if file[-6:] == 'pickle':\n",
    "        filePath = outputDir + '\\\\' + file\n",
    "        try:\n",
    "            mids = pd.read_pickle(filePath).sort_index()\n",
    "            endDate = mids.last_valid_index()\n",
    "            startDate = endDate - pd.Timedelta(startTimeDelta)\n",
    "            mids = mids[(mids.index > startDate) & (mids.index < endDate - pd.Timedelta(endTimeDelta))]\n",
    "            #sort runners according to favourites at beginning of timeseries\n",
    "            runners = mids.columns[mids.loc[mids.first_valid_index()].argsort()]\n",
    "            runners = runners[mids[runners].loc[mids.first_valid_index()] > 0]\n",
    "            # back with 1\n",
    "            fav1=0\n",
    "            fav2=0\n",
    "            fav3=0\n",
    "            margin = 1.0\n",
    "            #fav1 = mids.loc[mids.first_valid_index(), runners[0]] / mids.loc[mids.last_valid_index(), runners[0]] - 1\n",
    "            #fav2 = mids.loc[mids.first_valid_index(), runners[1]] / mids.loc[mids.last_valid_index(), runners[1]] - 1\n",
    "            if len(runners) >= 3:\n",
    "                fav3 = mids.loc[mids.first_valid_index(), runners[2]] / mids.loc[mids.last_valid_index(), runners[2]] - 1\n",
    "            # lay with 1 equivalent\n",
    "            #fav1 = -fav1 * (1/(mids.loc[mids.first_valid_index(), runners[0]]-1))\n",
    "            #fav2 = -fav2 * (1/(mids.loc[mids.first_valid_index(), runners[1]]-1))\n",
    "            pnl = (fav1 + fav2 + fav3)/margin\n",
    "            if pnl > 0:\n",
    "                pnl = pnl * 0.95\n",
    "            total_pnl += pnl\n",
    "            count += 1\n",
    "            pnls.append((file,pnl))\n",
    "            pbar.set_description('running avg trade : %f' % (total_pnl / count))\n",
    "        except:\n",
    "            errors.append({'file':filePath, 'error': traceback.format_exc()})\n",
    "print(f'{len(errors)} errors')\n",
    "median_trade = np.median(np.array(np.array(pnls)[:,1],dtype=float))\n",
    "print(f'median trade {median_trade}')\n",
    "print(f'total pnl {total_pnl}')"
   ]
  },
  {
   "cell_type": "code",
   "execution_count": null,
   "metadata": {},
   "outputs": [],
   "source": [
    "dfPnl=pd.DataFrame(pnls, columns=['id','pnl'])\n",
    "dfPnl['pnl'].hist(bins=100, figsize=(20,6))"
   ]
  },
  {
   "cell_type": "code",
   "execution_count": null,
   "metadata": {},
   "outputs": [],
   "source": [
    "dfPnl['pnl'].cumsum().plot()"
   ]
  },
  {
   "cell_type": "code",
   "execution_count": null,
   "metadata": {},
   "outputs": [],
   "source": []
  }
 ],
 "metadata": {
  "kernelspec": {
   "display_name": "Python 3 (ipykernel)",
   "language": "python",
   "name": "python3"
  },
  "language_info": {
   "codemirror_mode": {
    "name": "ipython",
    "version": 3
   },
   "file_extension": ".py",
   "mimetype": "text/x-python",
   "name": "python",
   "nbconvert_exporter": "python",
   "pygments_lexer": "ipython3",
   "version": "3.10.9"
  }
 },
 "nbformat": 4,
 "nbformat_minor": 4
}
